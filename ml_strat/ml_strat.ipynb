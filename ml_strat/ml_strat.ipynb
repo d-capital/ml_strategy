{
 "cells": [
  {
   "cell_type": "code",
   "execution_count": 5,
   "id": "80431aba",
   "metadata": {},
   "outputs": [
    {
     "name": "stderr",
     "output_type": "stream",
     "text": [
      "[*********************100%***********************]  1 of 1 completed\n",
      "\n",
      "1 Failed download:\n",
      "['AAPL']: YFRateLimitError('Too Many Requests. Rate limited. Try after a while.')\n"
     ]
    }
   ],
   "source": [
    "import yfinance as yf\n",
    "import pandas as pd\n",
    "import numpy as np\n",
    "\n",
    "data = yf.download(\"AAPL\", start=\"2018-01-01\", end=\"2024-12-31\")\n",
    "df = data[[\"Adj Close\"]].copy()\n",
    "df.columns = [\"price\"]\n",
    "\n",
    "# Инженерия признаков\n",
    "df[\"return_1d\"] = df[\"price\"].pct_change()\n",
    "df[\"return_5d\"] = df[\"price\"].pct_change(5)\n",
    "df[\"volatility_5d\"] = df[\"return_1d\"].rolling(5).std()\n",
    "df[\"momentum_10d\"] = df[\"price\"] / df[\"price\"].shift(10) - 1\n",
    "\n",
    "# Целевая переменная: 1 если завтра выше, иначе 0\n",
    "df[\"target\"] = (df[\"price\"].shift(-1) > df[\"price\"]).astype(int)\n",
    "\n",
    "df.dropna(inplace=True)\n"
   ]
  },
  {
   "cell_type": "code",
   "execution_count": null,
   "id": "256e2c12",
   "metadata": {},
   "outputs": [],
   "source": [
    "from sklearn.ensemble import RandomForestClassifier\n",
    "from sklearn.model_selection import train_test_split\n",
    "from sklearn.metrics import classification_report\n",
    "\n",
    "X = df[[\"return_1d\", \"return_5d\", \"volatility_5d\", \"momentum_10d\"]]\n",
    "y = df[\"target\"]\n",
    "\n",
    "X_train, X_test, y_train, y_test = train_test_split(X, y, shuffle=False, test_size=0.3)\n",
    "\n",
    "model = RandomForestClassifier(n_estimators=100, random_state=42)\n",
    "model.fit(X_train, y_train)\n",
    "\n",
    "y_pred = model.predict(X_test)\n",
    "print(classification_report(y_test, y_pred))"
   ]
  },
  {
   "cell_type": "code",
   "execution_count": null,
   "id": "90d4e03b",
   "metadata": {},
   "outputs": [],
   "source": [
    "df[\"predicted_signal\"] = model.predict(X)\n",
    "df[\"predicted_signal\"] = df[\"predicted_signal\"].shift(1)  # чтобы избежать lookahead bias"
   ]
  },
  {
   "cell_type": "code",
   "execution_count": null,
   "id": "abf00a38",
   "metadata": {},
   "outputs": [],
   "source": [
    "import bt\n",
    "\n",
    "def run_ml_strategy(df):\n",
    "    price = df[\"price\"]\n",
    "    signal = df[\"predicted_signal\"]\n",
    "\n",
    "    # Преобразуем сигнал 0/1 → -1/+1 для bt.py\n",
    "    signal = signal.replace({0: -1, 1: 1})\n",
    "\n",
    "    strategy = bt.Strategy(\n",
    "        \"MLStrategy\",\n",
    "        [\n",
    "            bt.algos.RunDaily(),\n",
    "            bt.algos.SelectAll(),\n",
    "            bt.algos.WeighTarget(signal),\n",
    "            bt.algos.Rebalance()\n",
    "        ]\n",
    "    )\n",
    "\n",
    "    backtest = bt.Backtest(strategy, price)\n",
    "    return bt.run(backtest)\n",
    "\n",
    "result = run_ml_strategy(df)\n",
    "result.plot(title=\"ML Strategy - Equity Curve\")"
   ]
  },
  {
   "cell_type": "code",
   "execution_count": null,
   "id": "5a270aa0",
   "metadata": {},
   "outputs": [],
   "source": [
    "stats = result[0].stats\n",
    "print(\"Sharpe Ratio:\", stats.loc[\"daily_sharpe\"])\n",
    "print(\"CAGR:\", stats.loc[\"cagr\"])\n",
    "print(\"Max Drawdown:\", stats.loc[\"max_drawdown\"])"
   ]
  }
 ],
 "metadata": {
  "kernelspec": {
   "display_name": ".venv",
   "language": "python",
   "name": "python3"
  },
  "language_info": {
   "codemirror_mode": {
    "name": "ipython",
    "version": 3
   },
   "file_extension": ".py",
   "mimetype": "text/x-python",
   "name": "python",
   "nbconvert_exporter": "python",
   "pygments_lexer": "ipython3",
   "version": "3.9.13"
  }
 },
 "nbformat": 4,
 "nbformat_minor": 5
}
